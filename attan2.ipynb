{
  "nbformat": 4,
  "nbformat_minor": 0,
  "metadata": {
    "colab": {
      "name": "attan2.ipynb",
      "provenance": [],
      "collapsed_sections": [],
      "mount_file_id": "1PVy5EOwwcU3zIHXG0Wu9V_HwnVWIe2mY",
      "authorship_tag": "ABX9TyOri+EKW9jsyGWs9ZKTZJI6",
      "include_colab_link": true
    },
    "kernelspec": {
      "name": "python2",
      "display_name": "Python 2"
    },
    "accelerator": "GPU"
  },
  "cells": [
    {
      "cell_type": "markdown",
      "metadata": {
        "id": "view-in-github",
        "colab_type": "text"
      },
      "source": [
        "<a href=\"https://colab.research.google.com/github/Ixia-Z/Myhair/blob/master/attan2.ipynb\" target=\"_parent\"><img src=\"https://colab.research.google.com/assets/colab-badge.svg\" alt=\"Open In Colab\"/></a>"
      ]
    },
    {
      "cell_type": "code",
      "metadata": {
        "id": "jUngQyHXVrEH",
        "colab": {
          "base_uri": "https://localhost:8080/"
        },
        "outputId": "3443da5d-ad17-4cff-aee7-2b54a45b722a"
      },
      "source": [
        "import sys\r\n",
        "import cv2\r\n",
        "print(\"python版本:%s\"% sys.version)\r\n",
        "print(\"opencv版本:%s\"% cv2.__version__)"
      ],
      "execution_count": null,
      "outputs": [
        {
          "output_type": "stream",
          "text": [
            "python版本:2.7.17 (default, Sep 30 2020, 13:38:04) \n",
            "[GCC 7.5.0]\n",
            "opencv版本:3.4.3\n"
          ],
          "name": "stdout"
        }
      ]
    },
    {
      "cell_type": "code",
      "metadata": {
        "colab": {
          "base_uri": "https://localhost:8080/"
        },
        "id": "mU_K7aWUWCab",
        "outputId": "c354cb11-8885-4573-cb5c-32b7e6f82333"
      },
      "source": [
        "!pwd\r\n",
        "!ls"
      ],
      "execution_count": 2,
      "outputs": [
        {
          "output_type": "stream",
          "text": [
            "/content\n",
            "sample_data\n"
          ],
          "name": "stdout"
        }
      ]
    },
    {
      "cell_type": "code",
      "metadata": {
        "colab": {
          "base_uri": "https://localhost:8080/"
        },
        "id": "6r0zvgk6WJ6c",
        "outputId": "90cbb2a5-541c-4cb1-8bc3-4979a89f2ec9"
      },
      "source": [
        "!python --version"
      ],
      "execution_count": 3,
      "outputs": [
        {
          "output_type": "stream",
          "text": [
            "Python 2.7.17\n"
          ],
          "name": "stdout"
        }
      ]
    },
    {
      "cell_type": "code",
      "metadata": {
        "colab": {
          "base_uri": "https://localhost:8080/"
        },
        "id": "rKmxKaU6WQ-T",
        "outputId": "3c286917-f492-4bc3-b7b0-a8aac1cc1549"
      },
      "source": [
        "!git clone https://github.com/taoxugit/AttnGAN.git"
      ],
      "execution_count": 1,
      "outputs": [
        {
          "output_type": "stream",
          "text": [
            "Cloning into 'AttnGAN'...\n",
            "remote: Enumerating objects: 291, done.\u001b[K\n",
            "remote: Total 291 (delta 0), reused 0 (delta 0), pack-reused 291\u001b[K\n",
            "Receiving objects: 100% (291/291), 36.76 MiB | 25.69 MiB/s, done.\n",
            "Resolving deltas: 100% (167/167), done.\n"
          ],
          "name": "stdout"
        }
      ]
    },
    {
      "cell_type": "code",
      "metadata": {
        "colab": {
          "base_uri": "https://localhost:8080/"
        },
        "id": "-aGFlja6WT5i",
        "outputId": "245c2a79-4c26-448a-a753-52e89b7493b6"
      },
      "source": [
        "!pip install python-dateutil\r\n",
        "!pip install easydict\r\n",
        "!pip install pandas\r\n",
        "!pip install torchfile\r\n",
        "!pip install nltk\r\n",
        "!pip install scikit-image"
      ],
      "execution_count": 2,
      "outputs": [
        {
          "output_type": "stream",
          "text": [
            "Requirement already satisfied: python-dateutil in /usr/local/lib/python2.7/dist-packages (2.5.3)\n",
            "Requirement already satisfied: six>=1.5 in /usr/local/lib/python2.7/dist-packages (from python-dateutil) (1.15.0)\n",
            "Requirement already satisfied: easydict in /usr/local/lib/python2.7/dist-packages (1.9)\n",
            "Requirement already satisfied: pandas in /usr/local/lib/python2.7/dist-packages (0.24.2)\n",
            "Requirement already satisfied: numpy>=1.12.0 in /usr/local/lib/python2.7/dist-packages (from pandas) (1.16.4)\n",
            "Requirement already satisfied: pytz>=2011k in /usr/local/lib/python2.7/dist-packages (from pandas) (2018.9)\n",
            "Requirement already satisfied: python-dateutil>=2.5.0 in /usr/local/lib/python2.7/dist-packages (from pandas) (2.5.3)\n",
            "Requirement already satisfied: six>=1.5 in /usr/local/lib/python2.7/dist-packages (from python-dateutil>=2.5.0->pandas) (1.15.0)\n",
            "Collecting torchfile\n",
            "  Downloading https://files.pythonhosted.org/packages/91/af/5b305f86f2d218091af657ddb53f984ecbd9518ca9fe8ef4103a007252c9/torchfile-0.1.0.tar.gz\n",
            "Building wheels for collected packages: torchfile\n",
            "  Building wheel for torchfile (setup.py) ... \u001b[?25l\u001b[?25hdone\n",
            "  Created wheel for torchfile: filename=torchfile-0.1.0-cp27-none-any.whl size=5712 sha256=7f42bf3727e8ad4da7f83b2ed339b149f767f62ce6cf4de91bb60ec72d314a3c\n",
            "  Stored in directory: /root/.cache/pip/wheels/b1/c3/d6/9a1cc8f3a99a0fc1124cae20153f36af59a6e683daca0a0814\n",
            "Successfully built torchfile\n",
            "Installing collected packages: torchfile\n",
            "Successfully installed torchfile-0.1.0\n",
            "Requirement already satisfied: nltk in /usr/local/lib/python2.7/dist-packages (3.2.5)\n",
            "Requirement already satisfied: six in /usr/local/lib/python2.7/dist-packages (from nltk) (1.15.0)\n",
            "Requirement already satisfied: scikit-image in /usr/local/lib/python2.7/dist-packages (0.14.3)\n",
            "Requirement already satisfied: PyWavelets>=0.4.0 in /usr/local/lib/python2.7/dist-packages (from scikit-image) (1.0.3)\n",
            "Requirement already satisfied: cloudpickle>=0.2.1 in /usr/local/lib/python2.7/dist-packages (from scikit-image) (1.3.0)\n",
            "Requirement already satisfied: scipy>=0.17.0 in /usr/local/lib/python2.7/dist-packages (from scikit-image) (1.2.2)\n",
            "Requirement already satisfied: six>=1.10.0 in /usr/local/lib/python2.7/dist-packages (from scikit-image) (1.15.0)\n",
            "Requirement already satisfied: networkx>=1.8 in /usr/local/lib/python2.7/dist-packages (from scikit-image) (2.2)\n",
            "Requirement already satisfied: matplotlib>=2.0.0 in /usr/local/lib/python2.7/dist-packages (from scikit-image) (2.2.4)\n",
            "Requirement already satisfied: pillow>=4.3.0 in /usr/local/lib/python2.7/dist-packages (from scikit-image) (4.3.0)\n",
            "Requirement already satisfied: numpy>=1.9.1 in /usr/local/lib/python2.7/dist-packages (from PyWavelets>=0.4.0->scikit-image) (1.16.4)\n",
            "Requirement already satisfied: decorator>=4.3.0 in /usr/local/lib/python2.7/dist-packages (from networkx>=1.8->scikit-image) (4.4.0)\n",
            "Requirement already satisfied: cycler>=0.10 in /usr/local/lib/python2.7/dist-packages (from matplotlib>=2.0.0->scikit-image) (0.10.0)\n",
            "Requirement already satisfied: backports.functools-lru-cache in /usr/local/lib/python2.7/dist-packages (from matplotlib>=2.0.0->scikit-image) (1.5)\n",
            "Requirement already satisfied: subprocess32 in /usr/local/lib/python2.7/dist-packages (from matplotlib>=2.0.0->scikit-image) (3.5.4)\n",
            "Requirement already satisfied: kiwisolver>=1.0.1 in /usr/local/lib/python2.7/dist-packages (from matplotlib>=2.0.0->scikit-image) (1.1.0)\n",
            "Requirement already satisfied: pytz in /usr/local/lib/python2.7/dist-packages (from matplotlib>=2.0.0->scikit-image) (2018.9)\n",
            "Requirement already satisfied: python-dateutil>=2.1 in /usr/local/lib/python2.7/dist-packages (from matplotlib>=2.0.0->scikit-image) (2.5.3)\n",
            "Requirement already satisfied: pyparsing!=2.0.4,!=2.1.2,!=2.1.6,>=2.0.1 in /usr/local/lib/python2.7/dist-packages (from matplotlib>=2.0.0->scikit-image) (2.4.0)\n",
            "Requirement already satisfied: olefile in /usr/local/lib/python2.7/dist-packages (from pillow>=4.3.0->scikit-image) (0.46)\n",
            "Requirement already satisfied: setuptools in /usr/local/lib/python2.7/dist-packages (from kiwisolver>=1.0.1->matplotlib>=2.0.0->scikit-image) (44.1.1)\n"
          ],
          "name": "stdout"
        }
      ]
    },
    {
      "cell_type": "code",
      "metadata": {
        "colab": {
          "base_uri": "https://localhost:8080/"
        },
        "id": "nVPpYZFDWcQL",
        "outputId": "7bcd0027-0fe5-4889-ddee-2784568f03e9"
      },
      "source": [
        "%cd AttnGAN/DAMSMencoders/\r\n",
        "!wget --load-cookies /tmp/cookies.txt \"https://docs.google.com/uc?export=download&confirm=$(wget --quiet --save-cookies /tmp/cookies.txt --keep-session-cookies --no-check-certificate 'https://docs.google.com/uc?export=download&id=1GNUKjVeyWYBJ8hEU-yrfYQpDOkxEyP3V' -O- | sed -rn 's/.*confirm=([0-9A-Za-z_]+).*/\\1\\n/p')&id=1GNUKjVeyWYBJ8hEU-yrfYQpDOkxEyP3V\" -O bird.zip && rm -rf /tmp/cookies.txt\r\n",
        "!unzip bird.zip"
      ],
      "execution_count": 3,
      "outputs": [
        {
          "output_type": "stream",
          "text": [
            "/content/AttnGAN/DAMSMencoders\n",
            "--2021-02-12 08:29:05--  https://docs.google.com/uc?export=download&confirm=LdBG&id=1GNUKjVeyWYBJ8hEU-yrfYQpDOkxEyP3V\n",
            "Resolving docs.google.com (docs.google.com)... 74.125.20.138, 74.125.20.100, 74.125.20.113, ...\n",
            "Connecting to docs.google.com (docs.google.com)|74.125.20.138|:443... connected.\n",
            "HTTP request sent, awaiting response... 302 Moved Temporarily\n",
            "Location: https://doc-0k-5c-docs.googleusercontent.com/docs/securesc/qsumt18s3kbjcibuh721gtehcbllid7f/ucdmj39qenu2qqpsog0aa5kqptighpv2/1613118525000/09657060183789739732/10610730993141730848Z/1GNUKjVeyWYBJ8hEU-yrfYQpDOkxEyP3V?e=download [following]\n",
            "--2021-02-12 08:29:06--  https://doc-0k-5c-docs.googleusercontent.com/docs/securesc/qsumt18s3kbjcibuh721gtehcbllid7f/ucdmj39qenu2qqpsog0aa5kqptighpv2/1613118525000/09657060183789739732/10610730993141730848Z/1GNUKjVeyWYBJ8hEU-yrfYQpDOkxEyP3V?e=download\n",
            "Resolving doc-0k-5c-docs.googleusercontent.com (doc-0k-5c-docs.googleusercontent.com)... 74.125.195.132, 2607:f8b0:400e:c09::84\n",
            "Connecting to doc-0k-5c-docs.googleusercontent.com (doc-0k-5c-docs.googleusercontent.com)|74.125.195.132|:443... connected.\n",
            "HTTP request sent, awaiting response... 302 Found\n",
            "Location: https://docs.google.com/nonceSigner?nonce=vtbge1raau6q4&continue=https://doc-0k-5c-docs.googleusercontent.com/docs/securesc/qsumt18s3kbjcibuh721gtehcbllid7f/ucdmj39qenu2qqpsog0aa5kqptighpv2/1613118525000/09657060183789739732/10610730993141730848Z/1GNUKjVeyWYBJ8hEU-yrfYQpDOkxEyP3V?e%3Ddownload&hash=artmksjkmjdv4rrcpghi6sbpbik2v8dh [following]\n",
            "--2021-02-12 08:29:06--  https://docs.google.com/nonceSigner?nonce=vtbge1raau6q4&continue=https://doc-0k-5c-docs.googleusercontent.com/docs/securesc/qsumt18s3kbjcibuh721gtehcbllid7f/ucdmj39qenu2qqpsog0aa5kqptighpv2/1613118525000/09657060183789739732/10610730993141730848Z/1GNUKjVeyWYBJ8hEU-yrfYQpDOkxEyP3V?e%3Ddownload&hash=artmksjkmjdv4rrcpghi6sbpbik2v8dh\n",
            "Connecting to docs.google.com (docs.google.com)|74.125.20.138|:443... connected.\n",
            "HTTP request sent, awaiting response... 302 Found\n",
            "Location: https://doc-0k-5c-docs.googleusercontent.com/docs/securesc/qsumt18s3kbjcibuh721gtehcbllid7f/ucdmj39qenu2qqpsog0aa5kqptighpv2/1613118525000/09657060183789739732/10610730993141730848Z/1GNUKjVeyWYBJ8hEU-yrfYQpDOkxEyP3V?e=download&nonce=vtbge1raau6q4&user=10610730993141730848Z&hash=30isnv8d4u4dd09tf1od53gdqt3ug3hl [following]\n",
            "--2021-02-12 08:29:06--  https://doc-0k-5c-docs.googleusercontent.com/docs/securesc/qsumt18s3kbjcibuh721gtehcbllid7f/ucdmj39qenu2qqpsog0aa5kqptighpv2/1613118525000/09657060183789739732/10610730993141730848Z/1GNUKjVeyWYBJ8hEU-yrfYQpDOkxEyP3V?e=download&nonce=vtbge1raau6q4&user=10610730993141730848Z&hash=30isnv8d4u4dd09tf1od53gdqt3ug3hl\n",
            "Connecting to doc-0k-5c-docs.googleusercontent.com (doc-0k-5c-docs.googleusercontent.com)|74.125.195.132|:443... connected.\n",
            "HTTP request sent, awaiting response... 200 OK\n",
            "Length: unspecified [application/zip]\n",
            "Saving to: ‘bird.zip’\n",
            "\n",
            "bird.zip                [     <=>            ]  87.15M  87.2MB/s    in 1.0s    \n",
            "\n",
            "2021-02-12 08:29:07 (87.2 MB/s) - ‘bird.zip’ saved [91382224]\n",
            "\n",
            "Archive:  bird.zip\n",
            "   creating: bird/\n",
            "  inflating: bird/image_encoder200.pth  \n",
            "  inflating: bird/text_encoder200.pth  \n"
          ],
          "name": "stdout"
        }
      ]
    },
    {
      "cell_type": "code",
      "metadata": {
        "colab": {
          "base_uri": "https://localhost:8080/"
        },
        "id": "9zPzKQeFW8c7",
        "outputId": "0d4fd110-0180-47fb-8db2-8cc687d4b6d7"
      },
      "source": [
        "%cd ../models/\r\n",
        "!wget --load-cookies /tmp/cookies.txt \"https://docs.google.com/uc?export=download&confirm=$(wget --quiet --save-cookies /tmp/cookies.txt --keep-session-cookies --no-check-certificate 'https://docs.google.com/uc?export=download&id=1lqNG75suOuR_8gjoEPYNp8VyT_ufPPig' -O- | sed -rn 's/.*confirm=([0-9A-Za-z_]+).*/\\1\\n/p')&id=1lqNG75suOuR_8gjoEPYNp8VyT_ufPPig\" -O bird_AttnGAN2.pth && rm -rf /tmp/cookies.txt\r\n"
      ],
      "execution_count": 4,
      "outputs": [
        {
          "output_type": "stream",
          "text": [
            "/content/AttnGAN/models\n",
            "--2021-02-12 08:29:55--  https://docs.google.com/uc?export=download&confirm=&id=1lqNG75suOuR_8gjoEPYNp8VyT_ufPPig\n",
            "Resolving docs.google.com (docs.google.com)... 74.125.142.102, 74.125.142.101, 74.125.142.138, ...\n",
            "Connecting to docs.google.com (docs.google.com)|74.125.142.102|:443... connected.\n",
            "HTTP request sent, awaiting response... 302 Moved Temporarily\n",
            "Location: https://doc-0s-bg-docs.googleusercontent.com/docs/securesc/068flvs170vdg38guckn5vm0k6bvtmk5/uge721htu81ej8ve82b0tqnk2h2k542r/1613118525000/09657060183789739732/07818554125354764553Z/1lqNG75suOuR_8gjoEPYNp8VyT_ufPPig?e=download [following]\n",
            "--2021-02-12 08:29:57--  https://doc-0s-bg-docs.googleusercontent.com/docs/securesc/068flvs170vdg38guckn5vm0k6bvtmk5/uge721htu81ej8ve82b0tqnk2h2k542r/1613118525000/09657060183789739732/07818554125354764553Z/1lqNG75suOuR_8gjoEPYNp8VyT_ufPPig?e=download\n",
            "Resolving doc-0s-bg-docs.googleusercontent.com (doc-0s-bg-docs.googleusercontent.com)... 74.125.195.132, 2607:f8b0:400e:c09::84\n",
            "Connecting to doc-0s-bg-docs.googleusercontent.com (doc-0s-bg-docs.googleusercontent.com)|74.125.195.132|:443... connected.\n",
            "HTTP request sent, awaiting response... 302 Found\n",
            "Location: https://docs.google.com/nonceSigner?nonce=cpcchioq5ic24&continue=https://doc-0s-bg-docs.googleusercontent.com/docs/securesc/068flvs170vdg38guckn5vm0k6bvtmk5/uge721htu81ej8ve82b0tqnk2h2k542r/1613118525000/09657060183789739732/07818554125354764553Z/1lqNG75suOuR_8gjoEPYNp8VyT_ufPPig?e%3Ddownload&hash=pj2fbo1r9iddptu9gh18sa250vpp7ncg [following]\n",
            "--2021-02-12 08:29:57--  https://docs.google.com/nonceSigner?nonce=cpcchioq5ic24&continue=https://doc-0s-bg-docs.googleusercontent.com/docs/securesc/068flvs170vdg38guckn5vm0k6bvtmk5/uge721htu81ej8ve82b0tqnk2h2k542r/1613118525000/09657060183789739732/07818554125354764553Z/1lqNG75suOuR_8gjoEPYNp8VyT_ufPPig?e%3Ddownload&hash=pj2fbo1r9iddptu9gh18sa250vpp7ncg\n",
            "Connecting to docs.google.com (docs.google.com)|74.125.142.102|:443... connected.\n",
            "HTTP request sent, awaiting response... 302 Found\n",
            "Location: https://doc-0s-bg-docs.googleusercontent.com/docs/securesc/068flvs170vdg38guckn5vm0k6bvtmk5/uge721htu81ej8ve82b0tqnk2h2k542r/1613118525000/09657060183789739732/07818554125354764553Z/1lqNG75suOuR_8gjoEPYNp8VyT_ufPPig?e=download&nonce=cpcchioq5ic24&user=07818554125354764553Z&hash=5v9j65mubjfit15qqcss2hcgp8bi0tge [following]\n",
            "--2021-02-12 08:29:57--  https://doc-0s-bg-docs.googleusercontent.com/docs/securesc/068flvs170vdg38guckn5vm0k6bvtmk5/uge721htu81ej8ve82b0tqnk2h2k542r/1613118525000/09657060183789739732/07818554125354764553Z/1lqNG75suOuR_8gjoEPYNp8VyT_ufPPig?e=download&nonce=cpcchioq5ic24&user=07818554125354764553Z&hash=5v9j65mubjfit15qqcss2hcgp8bi0tge\n",
            "Connecting to doc-0s-bg-docs.googleusercontent.com (doc-0s-bg-docs.googleusercontent.com)|74.125.195.132|:443... connected.\n",
            "HTTP request sent, awaiting response... 200 OK\n",
            "Length: unspecified [application/octet-stream]\n",
            "Saving to: ‘bird_AttnGAN2.pth’\n",
            "\n",
            "bird_AttnGAN2.pth       [ <=>                ]  27.17M  --.-KB/s    in 0.1s    \n",
            "\n",
            "2021-02-12 08:29:57 (282 MB/s) - ‘bird_AttnGAN2.pth’ saved [28494572]\n",
            "\n"
          ],
          "name": "stdout"
        }
      ]
    },
    {
      "cell_type": "code",
      "metadata": {
        "colab": {
          "base_uri": "https://localhost:8080/"
        },
        "id": "73xIs5BXXPGq",
        "outputId": "b9e7ae68-4387-49d3-fa64-8db6dae06388"
      },
      "source": [
        "%cd ../data/\r\n",
        "!wget --load-cookies /tmp/cookies.txt \"https://docs.google.com/uc?export=download&confirm=$(wget --quiet --save-cookies /tmp/cookies.txt --keep-session-cookies --no-check-certificate 'https://docs.google.com/uc?export=download&id=1O_LtUP9sch09QH3s_EBAgLEctBQ5JBSJ' -O- | sed -rn 's/.*confirm=([0-9A-Za-z_]+).*/\\1\\n/p')&id=1O_LtUP9sch09QH3s_EBAgLEctBQ5JBSJ\" -O birds.zip && rm -rf /tmp/cookies.txt\r\n",
        "!unzip birds.zip"
      ],
      "execution_count": 5,
      "outputs": [
        {
          "output_type": "stream",
          "text": [
            "/content/AttnGAN/data\n",
            "--2021-02-12 08:31:04--  https://docs.google.com/uc?export=download&confirm=iNY5&id=1O_LtUP9sch09QH3s_EBAgLEctBQ5JBSJ\n",
            "Resolving docs.google.com (docs.google.com)... 74.125.142.139, 74.125.142.101, 74.125.142.100, ...\n",
            "Connecting to docs.google.com (docs.google.com)|74.125.142.139|:443... connected.\n",
            "HTTP request sent, awaiting response... 302 Moved Temporarily\n",
            "Location: https://doc-14-8k-docs.googleusercontent.com/docs/securesc/g9d5eg3eeuhjpi1qu5pkovhcr1la3ja7/k1tg3ijujdga7ukm4h2s4ebish34mafj/1613118600000/09657060183789739732/12394183513375274273Z/1O_LtUP9sch09QH3s_EBAgLEctBQ5JBSJ?e=download [following]\n",
            "--2021-02-12 08:31:04--  https://doc-14-8k-docs.googleusercontent.com/docs/securesc/g9d5eg3eeuhjpi1qu5pkovhcr1la3ja7/k1tg3ijujdga7ukm4h2s4ebish34mafj/1613118600000/09657060183789739732/12394183513375274273Z/1O_LtUP9sch09QH3s_EBAgLEctBQ5JBSJ?e=download\n",
            "Resolving doc-14-8k-docs.googleusercontent.com (doc-14-8k-docs.googleusercontent.com)... 74.125.195.132, 2607:f8b0:400e:c09::84\n",
            "Connecting to doc-14-8k-docs.googleusercontent.com (doc-14-8k-docs.googleusercontent.com)|74.125.195.132|:443... connected.\n",
            "HTTP request sent, awaiting response... 302 Found\n",
            "Location: https://docs.google.com/nonceSigner?nonce=t37smi88c5ib6&continue=https://doc-14-8k-docs.googleusercontent.com/docs/securesc/g9d5eg3eeuhjpi1qu5pkovhcr1la3ja7/k1tg3ijujdga7ukm4h2s4ebish34mafj/1613118600000/09657060183789739732/12394183513375274273Z/1O_LtUP9sch09QH3s_EBAgLEctBQ5JBSJ?e%3Ddownload&hash=odcno9ohqaj397prjqugu2dvshorb2oq [following]\n",
            "--2021-02-12 08:31:04--  https://docs.google.com/nonceSigner?nonce=t37smi88c5ib6&continue=https://doc-14-8k-docs.googleusercontent.com/docs/securesc/g9d5eg3eeuhjpi1qu5pkovhcr1la3ja7/k1tg3ijujdga7ukm4h2s4ebish34mafj/1613118600000/09657060183789739732/12394183513375274273Z/1O_LtUP9sch09QH3s_EBAgLEctBQ5JBSJ?e%3Ddownload&hash=odcno9ohqaj397prjqugu2dvshorb2oq\n",
            "Connecting to docs.google.com (docs.google.com)|74.125.142.139|:443... connected.\n",
            "HTTP request sent, awaiting response... 302 Found\n",
            "Location: https://doc-14-8k-docs.googleusercontent.com/docs/securesc/g9d5eg3eeuhjpi1qu5pkovhcr1la3ja7/k1tg3ijujdga7ukm4h2s4ebish34mafj/1613118600000/09657060183789739732/12394183513375274273Z/1O_LtUP9sch09QH3s_EBAgLEctBQ5JBSJ?e=download&nonce=t37smi88c5ib6&user=12394183513375274273Z&hash=pe3hegegqkgo502vs7mu9ro1qkjn6cgj [following]\n",
            "--2021-02-12 08:31:04--  https://doc-14-8k-docs.googleusercontent.com/docs/securesc/g9d5eg3eeuhjpi1qu5pkovhcr1la3ja7/k1tg3ijujdga7ukm4h2s4ebish34mafj/1613118600000/09657060183789739732/12394183513375274273Z/1O_LtUP9sch09QH3s_EBAgLEctBQ5JBSJ?e=download&nonce=t37smi88c5ib6&user=12394183513375274273Z&hash=pe3hegegqkgo502vs7mu9ro1qkjn6cgj\n",
            "Connecting to doc-14-8k-docs.googleusercontent.com (doc-14-8k-docs.googleusercontent.com)|74.125.195.132|:443... connected.\n",
            "HTTP request sent, awaiting response... 200 OK\n",
            "Length: unspecified [application/zip]\n",
            "Saving to: ‘birds.zip’\n",
            "\n",
            "birds.zip               [ <=>                ]   6.19M  35.0MB/s    in 0.2s    \n",
            "\n",
            "2021-02-12 08:31:05 (35.0 MB/s) - ‘birds.zip’ saved [6488322]\n",
            "\n",
            "Archive:  birds.zip\n",
            "   creating: birds/\n",
            "  inflating: birds/.DS_Store         \n",
            "   creating: __MACOSX/\n",
            "   creating: __MACOSX/birds/\n",
            "  inflating: __MACOSX/birds/._.DS_Store  \n",
            "  inflating: birds/captions.pickle   \n",
            "  inflating: birds/example_captions.txt  \n",
            "  inflating: __MACOSX/birds/._example_captions.txt  \n",
            "  inflating: birds/example_filenames.txt  \n",
            "  inflating: birds/readme.txt        \n",
            "  inflating: __MACOSX/birds/._readme.txt  \n",
            "   creating: birds/test/\n",
            "  inflating: birds/test/.DS_Store    \n",
            "   creating: __MACOSX/birds/test/\n",
            "  inflating: __MACOSX/birds/test/._.DS_Store  \n",
            "  inflating: birds/test/class_info.pickle  \n",
            "  inflating: __MACOSX/birds/test/._class_info.pickle  \n",
            "  inflating: birds/test/filenames.pickle  \n",
            "  inflating: __MACOSX/birds/test/._filenames.pickle  \n",
            "  inflating: __MACOSX/birds/._test   \n",
            "  inflating: birds/text.zip          \n",
            "   creating: birds/train/\n",
            "  inflating: birds/train/class_info.pickle  \n",
            "   creating: __MACOSX/birds/train/\n",
            "  inflating: __MACOSX/birds/train/._class_info.pickle  \n",
            "  inflating: birds/train/filenames.pickle  \n",
            "  inflating: __MACOSX/birds/train/._filenames.pickle  \n"
          ],
          "name": "stdout"
        }
      ]
    },
    {
      "cell_type": "code",
      "metadata": {
        "colab": {
          "base_uri": "https://localhost:8080/"
        },
        "id": "FJN1Oe-cXiZ7",
        "outputId": "b44accd1-265b-44b7-ea85-a8f556862d18"
      },
      "source": [
        "%cd ../code"
      ],
      "execution_count": 7,
      "outputs": [
        {
          "output_type": "stream",
          "text": [
            "/content/AttnGAN/code\n"
          ],
          "name": "stdout"
        }
      ]
    },
    {
      "cell_type": "code",
      "metadata": {
        "colab": {
          "base_uri": "https://localhost:8080/"
        },
        "id": "cuZn8j8ZX61y",
        "outputId": "4042b6bd-3342-4f41-da29-33469586e8e7"
      },
      "source": [
        "!python main.py --cfg cfg/eval_bird.yml --gpu 0\r\n"
      ],
      "execution_count": 10,
      "outputs": [
        {
          "output_type": "stream",
          "text": [
            "Using config:\n",
            "{'B_VALIDATION': False,\n",
            " 'CONFIG_NAME': 'attn2',\n",
            " 'CUDA': True,\n",
            " 'DATASET_NAME': 'birds',\n",
            " 'DATA_DIR': '../data/birds',\n",
            " 'GAN': {'B_ATTENTION': True,\n",
            "         'B_DCGAN': False,\n",
            "         'CONDITION_DIM': 100,\n",
            "         'DF_DIM': 64,\n",
            "         'GF_DIM': 32,\n",
            "         'R_NUM': 2,\n",
            "         'Z_DIM': 100},\n",
            " 'GPU_ID': 0,\n",
            " 'RNN_TYPE': 'LSTM',\n",
            " 'TEXT': {'CAPTIONS_PER_IMAGE': 10, 'EMBEDDING_DIM': 256, 'WORDS_NUM': 25},\n",
            " 'TRAIN': {'BATCH_SIZE': 100,\n",
            "           'B_NET_D': False,\n",
            "           'DISCRIMINATOR_LR': 0.0002,\n",
            "           'ENCODER_LR': 0.0002,\n",
            "           'FLAG': False,\n",
            "           'GENERATOR_LR': 0.0002,\n",
            "           'MAX_EPOCH': 600,\n",
            "           'NET_E': '../DAMSMencoders/bird/text_encoder200.pth',\n",
            "           'NET_G': '../models/bird_AttnGAN2.pth',\n",
            "           'RNN_GRAD_CLIP': 0.25,\n",
            "           'SMOOTH': {'GAMMA1': 5.0,\n",
            "                      'GAMMA2': 5.0,\n",
            "                      'GAMMA3': 10.0,\n",
            "                      'LAMBDA': 1.0},\n",
            "           'SNAPSHOT_INTERVAL': 2000},\n",
            " 'TREE': {'BASE_SIZE': 64, 'BRANCH_NUM': 3},\n",
            " 'WORKERS': 1}\n",
            "/usr/local/lib/python2.7/dist-packages/torchvision/transforms/transforms.py:220: UserWarning: The use of the transforms.Scale transform is deprecated, please use transforms.Resize instead.\n",
            "  \"please use transforms.Resize instead.\")\n",
            "Total filenames:  11788 001.Black_footed_Albatross/Black_Footed_Albatross_0046_18.jpg\n",
            "Load filenames from: ../data/birds/train/filenames.pickle (8855)\n",
            "Load filenames from: ../data/birds/test/filenames.pickle (2933)\n",
            "Load from:  ../data/birds/captions.pickle\n",
            "Load from: example_captions\n",
            "/usr/local/lib/python2.7/dist-packages/torch/nn/modules/rnn.py:50: UserWarning: dropout option adds dropout after all but last recurrent layer, so non-zero dropout expects num_layers greater than 1, but got dropout=0.5 and num_layers=1\n",
            "  \"num_layers={}\".format(dropout, num_layers))\n",
            "Load text encoder from: ../DAMSMencoders/bird/text_encoder200.pth\n",
            "Load G from:  ../models/bird_AttnGAN2.pth\n",
            "/content/AttnGAN/code/trainer.py:466: UserWarning: volatile was removed and now has no effect. Use `with torch.no_grad():` instead.\n",
            "  captions = Variable(torch.from_numpy(captions), volatile=True)\n",
            "/content/AttnGAN/code/trainer.py:467: UserWarning: volatile was removed and now has no effect. Use `with torch.no_grad():` instead.\n",
            "  cap_lens = Variable(torch.from_numpy(cap_lens), volatile=True)\n",
            "/content/AttnGAN/code/trainer.py:472: UserWarning: volatile was removed and now has no effect. Use `with torch.no_grad():` instead.\n",
            "  noise = Variable(torch.FloatTensor(batch_size, nz), volatile=True)\n",
            "/usr/local/lib/python2.7/dist-packages/torch/nn/functional.py:1351: UserWarning: nn.functional.sigmoid is deprecated. Use torch.sigmoid instead.\n",
            "  warnings.warn(\"nn.functional.sigmoid is deprecated. Use torch.sigmoid instead.\")\n",
            "/content/AttnGAN/code/GlobalAttention.py:109: UserWarning: Implicit dimension choice for softmax has been deprecated. Change the call to include dim=X as an argument.\n",
            "  attn = self.sm(attn)  # Eq. (2)\n",
            "/usr/local/lib/python2.7/dist-packages/torch/nn/functional.py:2506: UserWarning: Default upsampling behavior when mode=bilinear is changed to align_corners=False since 0.4.0. Please specify align_corners=True if the old behavior is desired. See the documentation of nn.Upsample for details.\n",
            "  \"See the documentation of nn.Upsample for details.\".format(mode))\n",
            "/usr/local/lib/python2.7/dist-packages/skimage/transform/_warps.py:24: UserWarning: The default multichannel argument (None) is deprecated.  Please specify either True or False explicitly.  multichannel will default to False starting with release 0.16.\n",
            "  warn('The default multichannel argument (None) is deprecated.  Please '\n",
            "/content/AttnGAN/code/miscc/utils.py:235: RuntimeWarning: invalid value encountered in divide\n",
            "  one_map = (one_map - minV) / (maxV - minV)\n",
            "Total time for training: 53.4556899071\n"
          ],
          "name": "stdout"
        }
      ]
    }
  ]
}